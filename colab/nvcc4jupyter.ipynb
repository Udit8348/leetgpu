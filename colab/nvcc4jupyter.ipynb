{
 "cells": [
  {
   "cell_type": "markdown",
   "id": "3668817c",
   "metadata": {},
   "source": [
    "# NVCC for Jupyter Notebook\n",
    "nvcc4jupyter is a plugin for Jupyter Notebook to run CUDA C/C++ code. Colab offers a free unlimited usage T4 GPU that can be harnessed with this notebook. No code modifications are required. Below is a template to get started.\n",
    "\n",
    "[nvcc4jupyter github](https://github.com/andreinechaev/nvcc4jupyter) occasionally has minor updates / open issues in case this template fails."
   ]
  },
  {
   "cell_type": "markdown",
   "id": "47d00e09",
   "metadata": {},
   "source": [
    "\n",
    "### Known Issues / Fixes\n",
    "incompatible ptx version: [sol] https://github.com/andreinechaev/nvcc4jupyter/issues/40\n"
   ]
  },
  {
   "cell_type": "markdown",
   "id": "fded8e21",
   "metadata": {},
   "source": [
    "## Background\n",
    "\n",
    "A GPU enabled colab runtime will have the nvidia libraries installed and ready to use. For example, you can access the most basic diagnostic tools such as `nvidia-smi` or `nvcc`. Let's confirm by connecting to a gpu enabled runtime (T4) and running the following cell."
   ]
  },
  {
   "cell_type": "code",
   "execution_count": null,
   "id": "da5ca463",
   "metadata": {
    "vscode": {
     "languageId": "plaintext"
    }
   },
   "outputs": [],
   "source": [
    "!nvcc --version\n",
    "!nvidia-smi"
   ]
  },
  {
   "cell_type": "markdown",
   "id": "5a3b790b",
   "metadata": {},
   "source": [
    "## Installation\n",
    "After confirming that the nvidia toolchains and drivers are installed, the nvcc4jupyter extension can be installed. Then it needs to be loaded."
   ]
  },
  {
   "cell_type": "code",
   "execution_count": null,
   "id": "3c50b0db",
   "metadata": {
    "vscode": {
     "languageId": "plaintext"
    }
   },
   "outputs": [],
   "source": [
    "!pip install nvcc4jupyter"
   ]
  },
  {
   "cell_type": "code",
   "execution_count": null,
   "id": "d33b0607",
   "metadata": {
    "vscode": {
     "languageId": "plaintext"
    }
   },
   "outputs": [],
   "source": [
    "%load_ext nvcc4jupyter"
   ]
  },
  {
   "cell_type": "markdown",
   "id": "6c684259",
   "metadata": {},
   "source": [
    "# Hello World Program\n",
    "The setup is complete, and it can be verified usign a simple hello world program. Patches from the issues / fixes seciton will be updated as needed."
   ]
  },
  {
   "cell_type": "code",
   "execution_count": null,
   "id": "21115080",
   "metadata": {
    "vscode": {
     "languageId": "plaintext"
    }
   },
   "outputs": [],
   "source": [
    "%%cuda -c \"--gpu-architecture sm_75\"\n",
    "#include <stdio.h>\n",
    "\n",
    "__global__ void hello(){\n",
    "    printf(\"Hello from block: %u, thread: %u\\n\", blockIdx.x, threadIdx.x);\n",
    "}\n",
    "\n",
    "int main(){\n",
    "    hello<<<2, 2>>>();\n",
    "    cudaDeviceSynchronize();\n",
    "}"
   ]
  }
 ],
 "metadata": {
  "language_info": {
   "name": "python"
  }
 },
 "nbformat": 4,
 "nbformat_minor": 5
}
